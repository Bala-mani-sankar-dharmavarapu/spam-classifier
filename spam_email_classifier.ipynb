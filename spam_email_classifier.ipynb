{
  "nbformat": 4,
  "nbformat_minor": 0,
  "metadata": {
    "colab": {
      "provenance": [],
      "authorship_tag": "ABX9TyPRX3lqJBAVAOe16Eom0Jqc",
      "include_colab_link": true
    },
    "kernelspec": {
      "name": "python3",
      "display_name": "Python 3"
    },
    "language_info": {
      "name": "python"
    }
  },
  "cells": [
    {
      "cell_type": "markdown",
      "metadata": {
        "id": "view-in-github",
        "colab_type": "text"
      },
      "source": [
        "<a href=\"https://colab.research.google.com/github/Bala-mani-sankar-dharmavarapu/spam-classifier/blob/main/spam_email_classifier.ipynb\" target=\"_parent\"><img src=\"https://colab.research.google.com/assets/colab-badge.svg\" alt=\"Open In Colab\"/></a>"
      ]
    },
    {
      "cell_type": "code",
      "source": [
        "import pandas as pd\n",
        "import matplotlib.pyplot as plt\n",
        "from sklearn.model_selection import train_test_split\n",
        "from sklearn.feature_extraction.text import TfidfVectorizer\n",
        "from sklearn.naive_bayes import MultinomialNB\n",
        "from sklearn.metrics import accuracy_score\n",
        "from sklearn.metrics import confusion_matrix, ConfusionMatrixDisplay\n",
        "from sklearn.metrics import classification_report\n",
        "import string\n",
        "import re\n",
        "\n",
        "def clean_text(text):\n",
        "  text=text.lower()\n",
        "  text=re.sub(r'\\d+','',text)\n",
        "  text=text.translate(str.maketrans('','',string.punctuation))\n",
        "  text=re.sub(r'\\s+',' ',text).strip()\n",
        "  return text\n",
        "\n",
        "# Load data\n",
        "url=\"https://raw.githubusercontent.com/justmarkham/pycon-2016-tutorial/master/data/sms.tsv\"\n",
        "data=pd.read_csv(url,sep='\\t',header=None,names=[\"label\",\"message\"])\n",
        "\n",
        "data['label']=data['label'].map({'ham':0,'spam':1})\n",
        "data['clean_message']=data['message'].apply(clean_text)\n",
        "data[['message','clean_message']].head()\n",
        "\n",
        "\n",
        "# print(\"Data sets size\",data.shape)\n",
        "print(data[\"label\"].value_counts())\n",
        "# data[\"label\"].value_counts().plot(kind=\"bar\",title=\"Spam vs Ham Distribution\")\n",
        "data['message'].sample(5)\n",
        "vectorizer=TfidfVectorizer(stop_words=\"english\",ngram_range=(1,2))\n",
        "X=vectorizer.fit_transform(data['message'])\n",
        "\n",
        "y=data['label']\n",
        "\n",
        "X_train,X_test,y_train,y_test=train_test_split(X,y, test_size=0.2,random_state=42)\n",
        "X_train.shape\n",
        "\n",
        "# Train model\n",
        "model = MultinomialNB()\n",
        "model.fit(X_train,y_train)\n",
        "\n",
        "predictions=model.predict(X_test)\n",
        "accuracy=accuracy_score(y_test,predictions)\n",
        "\n",
        "cm=confusion_matrix(y_test,predictions)\n",
        "dsip=ConfusionMatrixDisplay(confusion_matrix=cm,display_labels=[\"Ham\",\"Spam\"])\n",
        "print(\"Accuracy:\", accuracy)\n",
        "dsip.plot()\n",
        "\n",
        "print(classification_report(y_test, predictions, target_names=[\"Ham\", \"Spam\"]))\n",
        "\n",
        "\n"
      ],
      "metadata": {
        "colab": {
          "base_uri": "https://localhost:8080/",
          "height": 687
        },
        "id": "PCeM77K1vy2A",
        "outputId": "8cf46288-e22b-4e0e-c9d7-e5380140ae34"
      },
      "execution_count": null,
      "outputs": [
        {
          "output_type": "stream",
          "name": "stdout",
          "text": [
            "label\n",
            "0    4825\n",
            "1     747\n",
            "Name: count, dtype: int64\n",
            "Accuracy: 0.9596412556053812\n",
            "              precision    recall  f1-score   support\n",
            "\n",
            "         Ham       0.96      1.00      0.98       966\n",
            "        Spam       1.00      0.70      0.82       149\n",
            "\n",
            "    accuracy                           0.96      1115\n",
            "   macro avg       0.98      0.85      0.90      1115\n",
            "weighted avg       0.96      0.96      0.96      1115\n",
            "\n"
          ]
        },
        {
          "output_type": "display_data",
          "data": {
            "text/plain": [
              "<Figure size 640x480 with 2 Axes>"
            ],
            "image/png": "[encoded data removed]"
          },
          "metadata": {}
        }
      ]
    },
    {
      "cell_type": "markdown",
      "source": [
        "## 🧠 Final Summary\n",
        "\n",
        "This project was my first introduction to text classification using NLP.\n",
        "\n",
        "**What I did:**\n",
        "- Preprocessed raw SMS messages (lowercased, removed punctuation/numbers)\n",
        "- Converted text into numerical features using TF-IDF\n",
        "- Trained a Naive Bayes classifier\n",
        "- Achieved ~X% accuracy on the test set\n",
        "- Improved performance using n-grams and cleaning\n",
        "\n",
        "**What I learned:**\n",
        "- How to handle real-world text data\n",
        "- Why TF-IDF is important in NLP\n",
        "- Why recall matters more than just accuracy in spam detection\n",
        "- How cleaning impacts model quality\n",
        "\n",
        "This project built my foundation in NLP and ML. Excited to move on to the next one!\n"
      ],
      "metadata": {
        "id": "Ulo_QO88eDcn"
      }
    }
  ]
}